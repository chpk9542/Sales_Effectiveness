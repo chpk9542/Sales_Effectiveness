{
 "cells": [
  {
   "cell_type": "markdown",
   "id": "8ff34401",
   "metadata": {},
   "source": [
    "# 1. Import Library"
   ]
  },
  {
   "cell_type": "code",
   "execution_count": 53,
   "id": "af1d1add",
   "metadata": {},
   "outputs": [],
   "source": [
    "import os\n",
    "import pickle\n",
    "import mysql.connector\n",
    "import pandas as pd\n",
    "import numpy as np\n",
    "import matplotlib.pyplot as plt\n",
    "import seaborn as sns\n",
    "from sklearn.preprocessing import LabelEncoder\n",
    "from sklearn.model_selection import RandomizedSearchCV"
   ]
  },
  {
   "cell_type": "code",
   "execution_count": 2,
   "id": "8eae38c4",
   "metadata": {},
   "outputs": [],
   "source": [
    "import warnings\n",
    "warnings.filterwarnings('ignore')"
   ]
  },
  {
   "cell_type": "markdown",
   "id": "e94c371e",
   "metadata": {},
   "source": [
    "# 2. Connect to Database"
   ]
  },
  {
   "cell_type": "code",
   "execution_count": 3,
   "id": "cb88b0fa",
   "metadata": {},
   "outputs": [],
   "source": [
    "## making connections to database server\n",
    "connection=mysql.connector.connect(host = '18.136.157.135',\n",
    "                                  user='dm_team2',\n",
    "                                  password='DM!$Team&27@9!20!',\n",
    "                                  database='project_sales'\n",
    "                                  \n",
    "                                  )"
   ]
  },
  {
   "cell_type": "code",
   "execution_count": 4,
   "id": "7dd27990",
   "metadata": {},
   "outputs": [
    {
     "name": "stdout",
     "output_type": "stream",
     "text": [
      "  Tables_in_project_sales\n",
      "0                    data\n"
     ]
    }
   ],
   "source": [
    "db_tables=pd.read_sql_query('show tables',connection)\n",
    "print(db_tables)"
   ]
  },
  {
   "cell_type": "markdown",
   "id": "357c20cb",
   "metadata": {},
   "source": [
    "# 3. Load Datase"
   ]
  },
  {
   "cell_type": "code",
   "execution_count": 5,
   "id": "6a03fb2a",
   "metadata": {},
   "outputs": [
    {
     "name": "stdout",
     "output_type": "stream",
     "text": [
      "(7422, 9)\n"
     ]
    },
    {
     "data": {
      "text/html": [
       "<div>\n",
       "<style scoped>\n",
       "    .dataframe tbody tr th:only-of-type {\n",
       "        vertical-align: middle;\n",
       "    }\n",
       "\n",
       "    .dataframe tbody tr th {\n",
       "        vertical-align: top;\n",
       "    }\n",
       "\n",
       "    .dataframe thead th {\n",
       "        text-align: right;\n",
       "    }\n",
       "</style>\n",
       "<table border=\"1\" class=\"dataframe\">\n",
       "  <thead>\n",
       "    <tr style=\"text-align: right;\">\n",
       "      <th></th>\n",
       "      <th>Created</th>\n",
       "      <th>Product_ID</th>\n",
       "      <th>Source</th>\n",
       "      <th>Mobile</th>\n",
       "      <th>EMAIL</th>\n",
       "      <th>Sales_Agent</th>\n",
       "      <th>Location</th>\n",
       "      <th>Delivery_Mode</th>\n",
       "      <th>Status</th>\n",
       "    </tr>\n",
       "  </thead>\n",
       "  <tbody>\n",
       "    <tr>\n",
       "      <th>0</th>\n",
       "      <td>14-11-2018 10:05</td>\n",
       "      <td></td>\n",
       "      <td>Website</td>\n",
       "      <td>984XXXXXXX</td>\n",
       "      <td>aXXXXXXX@gmail.com</td>\n",
       "      <td>Sales-Agent-11</td>\n",
       "      <td></td>\n",
       "      <td>Mode-5</td>\n",
       "      <td>Open</td>\n",
       "    </tr>\n",
       "    <tr>\n",
       "      <th>1</th>\n",
       "      <td>14-11-2018 09:22</td>\n",
       "      <td></td>\n",
       "      <td>Website</td>\n",
       "      <td>XXXXXXX</td>\n",
       "      <td>#VALUE!</td>\n",
       "      <td>Sales-Agent-10</td>\n",
       "      <td></td>\n",
       "      <td>Mode-5</td>\n",
       "      <td>Open</td>\n",
       "    </tr>\n",
       "    <tr>\n",
       "      <th>2</th>\n",
       "      <td>14-11-2018 09:21</td>\n",
       "      <td></td>\n",
       "      <td>Website</td>\n",
       "      <td>XXXXXXX</td>\n",
       "      <td>dXXXXXXX@yahoo.com</td>\n",
       "      <td>Sales-Agent-10</td>\n",
       "      <td></td>\n",
       "      <td>Mode-5</td>\n",
       "      <td>Open</td>\n",
       "    </tr>\n",
       "    <tr>\n",
       "      <th>3</th>\n",
       "      <td>14-11-2018 08:46</td>\n",
       "      <td></td>\n",
       "      <td>Website</td>\n",
       "      <td>XXXXXXX</td>\n",
       "      <td>wXXXXXXX@gmail.com</td>\n",
       "      <td>Sales-Agent-10</td>\n",
       "      <td></td>\n",
       "      <td>Mode-5</td>\n",
       "      <td>Open</td>\n",
       "    </tr>\n",
       "    <tr>\n",
       "      <th>4</th>\n",
       "      <td>14-11-2018 07:34</td>\n",
       "      <td></td>\n",
       "      <td>Website</td>\n",
       "      <td>XXXXXXX</td>\n",
       "      <td>cXXXXXXX@gmail.com</td>\n",
       "      <td>Sales-Agent-10</td>\n",
       "      <td></td>\n",
       "      <td>Mode-5</td>\n",
       "      <td>Open</td>\n",
       "    </tr>\n",
       "    <tr>\n",
       "      <th>...</th>\n",
       "      <td>...</td>\n",
       "      <td>...</td>\n",
       "      <td>...</td>\n",
       "      <td>...</td>\n",
       "      <td>...</td>\n",
       "      <td>...</td>\n",
       "      <td>...</td>\n",
       "      <td>...</td>\n",
       "      <td>...</td>\n",
       "    </tr>\n",
       "    <tr>\n",
       "      <th>7417</th>\n",
       "      <td>28-04-2018 09:45</td>\n",
       "      <td>9</td>\n",
       "      <td>Call</td>\n",
       "      <td></td>\n",
       "      <td>aXXXXXXX@gmail.com</td>\n",
       "      <td>Sales-Agent-6</td>\n",
       "      <td>Mumbai</td>\n",
       "      <td>Mode-4</td>\n",
       "      <td>LOST</td>\n",
       "    </tr>\n",
       "    <tr>\n",
       "      <th>7418</th>\n",
       "      <td>28-04-2018 09:43</td>\n",
       "      <td>15</td>\n",
       "      <td>Call</td>\n",
       "      <td></td>\n",
       "      <td>#VALUE!</td>\n",
       "      <td>Sales-Agent-12</td>\n",
       "      <td>Other Locations</td>\n",
       "      <td>Mode-5</td>\n",
       "      <td>LOST</td>\n",
       "    </tr>\n",
       "    <tr>\n",
       "      <th>7419</th>\n",
       "      <td>28-04-2018 09:20</td>\n",
       "      <td>5</td>\n",
       "      <td>Live Chat-Direct</td>\n",
       "      <td></td>\n",
       "      <td>sXXXXXXX@gmail.com</td>\n",
       "      <td>Sales-Agent-11</td>\n",
       "      <td>Bangalore</td>\n",
       "      <td>Mode-1</td>\n",
       "      <td>Not Responding</td>\n",
       "    </tr>\n",
       "    <tr>\n",
       "      <th>7420</th>\n",
       "      <td>28-04-2018 08:04</td>\n",
       "      <td>21</td>\n",
       "      <td>CRM form</td>\n",
       "      <td></td>\n",
       "      <td>YXXXXXXX@gmail.com</td>\n",
       "      <td>Sales-Agent-4</td>\n",
       "      <td>Other Locations</td>\n",
       "      <td>Mode-1</td>\n",
       "      <td>Just Enquiry</td>\n",
       "    </tr>\n",
       "    <tr>\n",
       "      <th>7421</th>\n",
       "      <td>28-04-2018 07:54</td>\n",
       "      <td>25</td>\n",
       "      <td>Website</td>\n",
       "      <td></td>\n",
       "      <td>cXXXXXXX@gmail.com</td>\n",
       "      <td>Sales-Agent-3</td>\n",
       "      <td>Chennai</td>\n",
       "      <td>Mode-1</td>\n",
       "      <td>CONVERTED</td>\n",
       "    </tr>\n",
       "  </tbody>\n",
       "</table>\n",
       "<p>7422 rows × 9 columns</p>\n",
       "</div>"
      ],
      "text/plain": [
       "               Created Product_ID            Source      Mobile  \\\n",
       "0     14-11-2018 10:05                      Website  984XXXXXXX   \n",
       "1     14-11-2018 09:22                      Website     XXXXXXX   \n",
       "2     14-11-2018 09:21                      Website     XXXXXXX   \n",
       "3     14-11-2018 08:46                      Website     XXXXXXX   \n",
       "4     14-11-2018 07:34                      Website     XXXXXXX   \n",
       "...                ...        ...               ...         ...   \n",
       "7417  28-04-2018 09:45          9              Call               \n",
       "7418  28-04-2018 09:43         15              Call               \n",
       "7419  28-04-2018 09:20          5  Live Chat-Direct               \n",
       "7420  28-04-2018 08:04         21          CRM form               \n",
       "7421  28-04-2018 07:54         25           Website               \n",
       "\n",
       "                   EMAIL     Sales_Agent         Location Delivery_Mode  \\\n",
       "0     aXXXXXXX@gmail.com  Sales-Agent-11                         Mode-5   \n",
       "1                #VALUE!  Sales-Agent-10                         Mode-5   \n",
       "2     dXXXXXXX@yahoo.com  Sales-Agent-10                         Mode-5   \n",
       "3     wXXXXXXX@gmail.com  Sales-Agent-10                         Mode-5   \n",
       "4     cXXXXXXX@gmail.com  Sales-Agent-10                         Mode-5   \n",
       "...                  ...             ...              ...           ...   \n",
       "7417  aXXXXXXX@gmail.com   Sales-Agent-6           Mumbai        Mode-4   \n",
       "7418             #VALUE!  Sales-Agent-12  Other Locations        Mode-5   \n",
       "7419  sXXXXXXX@gmail.com  Sales-Agent-11        Bangalore        Mode-1   \n",
       "7420  YXXXXXXX@gmail.com   Sales-Agent-4  Other Locations        Mode-1   \n",
       "7421  cXXXXXXX@gmail.com   Sales-Agent-3          Chennai        Mode-1   \n",
       "\n",
       "              Status  \n",
       "0               Open  \n",
       "1               Open  \n",
       "2               Open  \n",
       "3               Open  \n",
       "4               Open  \n",
       "...              ...  \n",
       "7417            LOST  \n",
       "7418            LOST  \n",
       "7419  Not Responding  \n",
       "7420    Just Enquiry  \n",
       "7421       CONVERTED  \n",
       "\n",
       "[7422 rows x 9 columns]"
      ]
     },
     "execution_count": 5,
     "metadata": {},
     "output_type": "execute_result"
    }
   ],
   "source": [
    "query = \"select * from data\" # SQL statement\n",
    "output = pd.read_sql(query,connection)\n",
    "print(output.shape)\n",
    "output"
   ]
  },
  {
   "cell_type": "markdown",
   "id": "bac5bd45",
   "metadata": {},
   "source": [
    "# 4. Basic Check"
   ]
  },
  {
   "cell_type": "code",
   "execution_count": 6,
   "id": "2b88141a",
   "metadata": {},
   "outputs": [
    {
     "data": {
      "text/html": [
       "<div>\n",
       "<style scoped>\n",
       "    .dataframe tbody tr th:only-of-type {\n",
       "        vertical-align: middle;\n",
       "    }\n",
       "\n",
       "    .dataframe tbody tr th {\n",
       "        vertical-align: top;\n",
       "    }\n",
       "\n",
       "    .dataframe thead th {\n",
       "        text-align: right;\n",
       "    }\n",
       "</style>\n",
       "<table border=\"1\" class=\"dataframe\">\n",
       "  <thead>\n",
       "    <tr style=\"text-align: right;\">\n",
       "      <th></th>\n",
       "      <th>Created</th>\n",
       "      <th>Product_ID</th>\n",
       "      <th>Source</th>\n",
       "      <th>Mobile</th>\n",
       "      <th>EMAIL</th>\n",
       "      <th>Sales_Agent</th>\n",
       "      <th>Location</th>\n",
       "      <th>Delivery_Mode</th>\n",
       "      <th>Status</th>\n",
       "    </tr>\n",
       "  </thead>\n",
       "  <tbody>\n",
       "    <tr>\n",
       "      <th>0</th>\n",
       "      <td>14-11-2018 10:05</td>\n",
       "      <td></td>\n",
       "      <td>Website</td>\n",
       "      <td>984XXXXXXX</td>\n",
       "      <td>aXXXXXXX@gmail.com</td>\n",
       "      <td>Sales-Agent-11</td>\n",
       "      <td></td>\n",
       "      <td>Mode-5</td>\n",
       "      <td>Open</td>\n",
       "    </tr>\n",
       "    <tr>\n",
       "      <th>1</th>\n",
       "      <td>14-11-2018 09:22</td>\n",
       "      <td></td>\n",
       "      <td>Website</td>\n",
       "      <td>XXXXXXX</td>\n",
       "      <td>#VALUE!</td>\n",
       "      <td>Sales-Agent-10</td>\n",
       "      <td></td>\n",
       "      <td>Mode-5</td>\n",
       "      <td>Open</td>\n",
       "    </tr>\n",
       "    <tr>\n",
       "      <th>2</th>\n",
       "      <td>14-11-2018 09:21</td>\n",
       "      <td></td>\n",
       "      <td>Website</td>\n",
       "      <td>XXXXXXX</td>\n",
       "      <td>dXXXXXXX@yahoo.com</td>\n",
       "      <td>Sales-Agent-10</td>\n",
       "      <td></td>\n",
       "      <td>Mode-5</td>\n",
       "      <td>Open</td>\n",
       "    </tr>\n",
       "    <tr>\n",
       "      <th>3</th>\n",
       "      <td>14-11-2018 08:46</td>\n",
       "      <td></td>\n",
       "      <td>Website</td>\n",
       "      <td>XXXXXXX</td>\n",
       "      <td>wXXXXXXX@gmail.com</td>\n",
       "      <td>Sales-Agent-10</td>\n",
       "      <td></td>\n",
       "      <td>Mode-5</td>\n",
       "      <td>Open</td>\n",
       "    </tr>\n",
       "    <tr>\n",
       "      <th>4</th>\n",
       "      <td>14-11-2018 07:34</td>\n",
       "      <td></td>\n",
       "      <td>Website</td>\n",
       "      <td>XXXXXXX</td>\n",
       "      <td>cXXXXXXX@gmail.com</td>\n",
       "      <td>Sales-Agent-10</td>\n",
       "      <td></td>\n",
       "      <td>Mode-5</td>\n",
       "      <td>Open</td>\n",
       "    </tr>\n",
       "  </tbody>\n",
       "</table>\n",
       "</div>"
      ],
      "text/plain": [
       "            Created Product_ID   Source      Mobile               EMAIL  \\\n",
       "0  14-11-2018 10:05             Website  984XXXXXXX  aXXXXXXX@gmail.com   \n",
       "1  14-11-2018 09:22             Website     XXXXXXX             #VALUE!   \n",
       "2  14-11-2018 09:21             Website     XXXXXXX  dXXXXXXX@yahoo.com   \n",
       "3  14-11-2018 08:46             Website     XXXXXXX  wXXXXXXX@gmail.com   \n",
       "4  14-11-2018 07:34             Website     XXXXXXX  cXXXXXXX@gmail.com   \n",
       "\n",
       "      Sales_Agent Location Delivery_Mode Status  \n",
       "0  Sales-Agent-11                 Mode-5   Open  \n",
       "1  Sales-Agent-10                 Mode-5   Open  \n",
       "2  Sales-Agent-10                 Mode-5   Open  \n",
       "3  Sales-Agent-10                 Mode-5   Open  \n",
       "4  Sales-Agent-10                 Mode-5   Open  "
      ]
     },
     "execution_count": 6,
     "metadata": {},
     "output_type": "execute_result"
    }
   ],
   "source": [
    "output.head()"
   ]
  },
  {
   "cell_type": "code",
   "execution_count": 7,
   "id": "d0022fc3",
   "metadata": {},
   "outputs": [
    {
     "data": {
      "text/plain": [
       "Index(['Created', 'Product_ID', 'Source', 'Mobile', 'EMAIL', 'Sales_Agent',\n",
       "       'Location', 'Delivery_Mode', 'Status'],\n",
       "      dtype='object')"
      ]
     },
     "execution_count": 7,
     "metadata": {},
     "output_type": "execute_result"
    }
   ],
   "source": [
    "## Getting all columns form the dataset\n",
    "output.columns"
   ]
  },
  {
   "cell_type": "code",
   "execution_count": 8,
   "id": "ddb44e0c",
   "metadata": {},
   "outputs": [
    {
     "data": {
      "text/html": [
       "<div>\n",
       "<style scoped>\n",
       "    .dataframe tbody tr th:only-of-type {\n",
       "        vertical-align: middle;\n",
       "    }\n",
       "\n",
       "    .dataframe tbody tr th {\n",
       "        vertical-align: top;\n",
       "    }\n",
       "\n",
       "    .dataframe thead th {\n",
       "        text-align: right;\n",
       "    }\n",
       "</style>\n",
       "<table border=\"1\" class=\"dataframe\">\n",
       "  <thead>\n",
       "    <tr style=\"text-align: right;\">\n",
       "      <th></th>\n",
       "      <th>Created</th>\n",
       "      <th>Product_ID</th>\n",
       "      <th>Source</th>\n",
       "      <th>Mobile</th>\n",
       "      <th>EMAIL</th>\n",
       "      <th>Sales_Agent</th>\n",
       "      <th>Location</th>\n",
       "      <th>Delivery_Mode</th>\n",
       "      <th>Status</th>\n",
       "    </tr>\n",
       "  </thead>\n",
       "  <tbody>\n",
       "    <tr>\n",
       "      <th>count</th>\n",
       "      <td>7422</td>\n",
       "      <td>7422</td>\n",
       "      <td>7422</td>\n",
       "      <td>7422</td>\n",
       "      <td>7422</td>\n",
       "      <td>7422</td>\n",
       "      <td>7422</td>\n",
       "      <td>7422</td>\n",
       "      <td>7422</td>\n",
       "    </tr>\n",
       "    <tr>\n",
       "      <th>unique</th>\n",
       "      <td>6752</td>\n",
       "      <td>30</td>\n",
       "      <td>26</td>\n",
       "      <td>487</td>\n",
       "      <td>883</td>\n",
       "      <td>13</td>\n",
       "      <td>18</td>\n",
       "      <td>5</td>\n",
       "      <td>11</td>\n",
       "    </tr>\n",
       "    <tr>\n",
       "      <th>top</th>\n",
       "      <td>26-09-2018 11:30</td>\n",
       "      <td>18</td>\n",
       "      <td>Call</td>\n",
       "      <td></td>\n",
       "      <td>#VALUE!</td>\n",
       "      <td>Sales-Agent-4</td>\n",
       "      <td>Other Locations</td>\n",
       "      <td>Mode-5</td>\n",
       "      <td>Junk Lead</td>\n",
       "    </tr>\n",
       "    <tr>\n",
       "      <th>freq</th>\n",
       "      <td>4</td>\n",
       "      <td>1711</td>\n",
       "      <td>2547</td>\n",
       "      <td>1810</td>\n",
       "      <td>1701</td>\n",
       "      <td>1500</td>\n",
       "      <td>2500</td>\n",
       "      <td>2975</td>\n",
       "      <td>1536</td>\n",
       "    </tr>\n",
       "  </tbody>\n",
       "</table>\n",
       "</div>"
      ],
      "text/plain": [
       "                 Created Product_ID Source Mobile    EMAIL    Sales_Agent  \\\n",
       "count               7422       7422   7422   7422     7422           7422   \n",
       "unique              6752         30     26    487      883             13   \n",
       "top     26-09-2018 11:30         18   Call         #VALUE!  Sales-Agent-4   \n",
       "freq                   4       1711   2547   1810     1701           1500   \n",
       "\n",
       "               Location Delivery_Mode     Status  \n",
       "count              7422          7422       7422  \n",
       "unique               18             5         11  \n",
       "top     Other Locations        Mode-5  Junk Lead  \n",
       "freq               2500          2975       1536  "
      ]
     },
     "execution_count": 8,
     "metadata": {},
     "output_type": "execute_result"
    }
   ],
   "source": [
    "output.describe()"
   ]
  },
  {
   "cell_type": "code",
   "execution_count": 9,
   "id": "1d33a5a2",
   "metadata": {},
   "outputs": [
    {
     "name": "stdout",
     "output_type": "stream",
     "text": [
      "<class 'pandas.core.frame.DataFrame'>\n",
      "RangeIndex: 7422 entries, 0 to 7421\n",
      "Data columns (total 9 columns):\n",
      " #   Column         Non-Null Count  Dtype \n",
      "---  ------         --------------  ----- \n",
      " 0   Created        7422 non-null   object\n",
      " 1   Product_ID     7422 non-null   object\n",
      " 2   Source         7422 non-null   object\n",
      " 3   Mobile         7422 non-null   object\n",
      " 4   EMAIL          7422 non-null   object\n",
      " 5   Sales_Agent    7422 non-null   object\n",
      " 6   Location       7422 non-null   object\n",
      " 7   Delivery_Mode  7422 non-null   object\n",
      " 8   Status         7422 non-null   object\n",
      "dtypes: object(9)\n",
      "memory usage: 522.0+ KB\n"
     ]
    }
   ],
   "source": [
    "output.info()"
   ]
  },
  {
   "cell_type": "markdown",
   "id": "3f83bc23",
   "metadata": {},
   "source": [
    "# 5. Exploration"
   ]
  },
  {
   "cell_type": "code",
   "execution_count": 10,
   "id": "9db29024",
   "metadata": {},
   "outputs": [
    {
     "data": {
      "application/vnd.jupyter.widget-view+json": {
       "model_id": "b081bab244dd4a9b9a9498d4d483093f",
       "version_major": 2,
       "version_minor": 0
      },
      "text/plain": [
       "                                             |                                             | [  0%]   00:00 ->…"
      ]
     },
     "metadata": {},
     "output_type": "display_data"
    },
    {
     "name": "stdout",
     "output_type": "stream",
     "text": [
      "Report SWEETVIZ_REPORT.html was generated! NOTEBOOK/COLAB USERS: the web browser MAY not pop up, regardless, the report IS saved in your notebook/colab files.\n"
     ]
    }
   ],
   "source": [
    "# Univariant Analysis\n",
    "\n",
    "import sweetviz as sv#importing sweetviz library \n",
    "my_application = sv.analyze(output)#syntax to use sweetviz\n",
    "my_application.show_html()#Default arguments will generate to \"SWEETVIZ_REPORT.html\""
   ]
  },
  {
   "cell_type": "code",
   "execution_count": 11,
   "id": "b6e6af04",
   "metadata": {},
   "outputs": [
    {
     "data": {
      "text/plain": [
       "Status\n",
       "CONVERTED                834\n",
       "In Progress Negative     626\n",
       "In Progress Positive     643\n",
       "Junk Lead               1536\n",
       "Just Enquiry             760\n",
       "LOST                     440\n",
       "Long Term                646\n",
       "Not Responding          1129\n",
       "Open                      82\n",
       "Potential                708\n",
       "converted                 18\n",
       "Name: Status, dtype: int64"
      ]
     },
     "execution_count": 11,
     "metadata": {},
     "output_type": "execute_result"
    }
   ],
   "source": [
    "output.groupby('Status')['Status'].count()"
   ]
  },
  {
   "cell_type": "code",
   "execution_count": 12,
   "id": "43898ac2",
   "metadata": {},
   "outputs": [
    {
     "data": {
      "text/plain": [
       "<AxesSubplot:xlabel='Status', ylabel='count'>"
      ]
     },
     "execution_count": 12,
     "metadata": {},
     "output_type": "execute_result"
    },
    {
     "data": {
      "image/png": "[encoded data removed]",
      "text/plain": [
       "<Figure size 1200x600 with 1 Axes>"
      ]
     },
     "metadata": {},
     "output_type": "display_data"
    }
   ],
   "source": [
    "# Exploration Status\n",
    "fig, ax = plt.subplots( figsize = (12,6) )\n",
    "sns.countplot( x='Status', data=output )"
   ]
  },
  {
   "cell_type": "markdown",
   "id": "334b1b13",
   "metadata": {},
   "source": [
    "## Data Exploration - Status\n",
    "* We defined 'Status' as target label\n",
    "* Status :  Potential 10 % (708 activity) and low potential 90%\n",
    "* We defined low potentisl : Junklead21%, Not responding 15%, Converted 11%, Just Enquiry 10%, lOng term 9%, in progress positive 9%, in progress negatif 8%, lost 6%, and open 1%."
   ]
  },
  {
   "cell_type": "code",
   "execution_count": 13,
   "id": "497e1c1f",
   "metadata": {},
   "outputs": [
    {
     "data": {
      "text/plain": [
       "Product_ID\n",
       "        58\n",
       "0        2\n",
       "1      105\n",
       "10     168\n",
       "11      12\n",
       "12      36\n",
       "13       5\n",
       "14      27\n",
       "15    1518\n",
       "16       3\n",
       "17       7\n",
       "18    1711\n",
       "19    1189\n",
       "2       38\n",
       "20     102\n",
       "21      66\n",
       "22       8\n",
       "23       2\n",
       "24       3\n",
       "25      90\n",
       "26      31\n",
       "27     739\n",
       "28       1\n",
       "3        7\n",
       "4        1\n",
       "5      487\n",
       "6        7\n",
       "7        1\n",
       "8        6\n",
       "9      992\n",
       "Name: Product_ID, dtype: int64"
      ]
     },
     "execution_count": 13,
     "metadata": {},
     "output_type": "execute_result"
    }
   ],
   "source": [
    "output.groupby('Product_ID')['Product_ID'].count()"
   ]
  },
  {
   "cell_type": "code",
   "execution_count": 14,
   "id": "a7b0d19b",
   "metadata": {},
   "outputs": [
    {
     "data": {
      "text/plain": [
       "<AxesSubplot:xlabel='Product_ID', ylabel='count'>"
      ]
     },
     "execution_count": 14,
     "metadata": {},
     "output_type": "execute_result"
    },
    {
     "data": {
      "image/png": "[encoded data removed]",
      "text/plain": [
       "<Figure size 1200x600 with 1 Axes>"
      ]
     },
     "metadata": {},
     "output_type": "display_data"
    }
   ],
   "source": [
    "# Exploration Product ID\n",
    "fig, ax = plt.subplots( figsize = (12,6) )\n",
    "sns.countplot( x='Product_ID', data=output )"
   ]
  },
  {
   "cell_type": "markdown",
   "id": "a899fbc2",
   "metadata": {},
   "source": [
    "## Data Exploration 'Product ID'\n",
    "* The higher composition for Product ID are 18,15,19,9,27 (72%)."
   ]
  },
  {
   "cell_type": "code",
   "execution_count": 15,
   "id": "d2f669df",
   "metadata": {},
   "outputs": [
    {
     "data": {
      "text/plain": [
       "Source\n",
       "                                   17\n",
       "By Recommendation                  32\n",
       "CRM form                           23\n",
       "Call                             2547\n",
       "Campaign                           19\n",
       "Customer Referral                 180\n",
       "E-Mail Message                      1\n",
       "E-mail Campaign                    12\n",
       "Existing Client                    51\n",
       "Existing Customer                  22\n",
       "Just Dial                          56\n",
       "Live Chat -PPC                    249\n",
       "Live Chat-Adwords Remarketing       7\n",
       "Live Chat-Blog                    237\n",
       "Live Chat-CPC                      50\n",
       "Live Chat-Direct                 1834\n",
       "Live Chat-Google Ads               21\n",
       "Live Chat-Google Organic          274\n",
       "Live Chat-Justdial                  1\n",
       "Live Chat-Quora                     2\n",
       "Live Chat-Youtube                   2\n",
       "Other                               2\n",
       "Personal Contact                   50\n",
       "SMS Campaign                        2\n",
       "US Website                        137\n",
       "Website                          1594\n",
       "Name: Source, dtype: int64"
      ]
     },
     "execution_count": 15,
     "metadata": {},
     "output_type": "execute_result"
    }
   ],
   "source": [
    "output.groupby('Source')['Source'].count()"
   ]
  },
  {
   "cell_type": "code",
   "execution_count": 16,
   "id": "9bad8e0b",
   "metadata": {},
   "outputs": [
    {
     "data": {
      "text/plain": [
       "<AxesSubplot:xlabel='Source', ylabel='count'>"
      ]
     },
     "execution_count": 16,
     "metadata": {},
     "output_type": "execute_result"
    },
    {
     "data": {
      "image/png": "[encoded data removed]",
      "text/plain": [
       "<Figure size 1200x600 with 1 Axes>"
      ]
     },
     "metadata": {},
     "output_type": "display_data"
    }
   ],
   "source": [
    "# Exploration Source\n",
    "fig, ax = plt.subplots( figsize = (12,6) )\n",
    "sns.countplot( x='Source', data=output )"
   ]
  },
  {
   "cell_type": "markdown",
   "id": "36d76497",
   "metadata": {},
   "source": [
    "## Data Exploration ' Source'\n",
    "* Top 3 source of information from Call 34%, Live Chat Direct 25%, and website 21%."
   ]
  },
  {
   "cell_type": "code",
   "execution_count": 17,
   "id": "e4d922df",
   "metadata": {},
   "outputs": [
    {
     "data": {
      "text/plain": [
       "Sales_Agent\n",
       "                    23\n",
       "Sales-Agent-1        4\n",
       "Sales-Agent-10      49\n",
       "Sales-Agent-11    1420\n",
       "Sales-Agent-12     269\n",
       "Sales-Agent-2      389\n",
       "Sales-Agent-3      781\n",
       "Sales-Agent-4     1500\n",
       "Sales-Agent-5     1190\n",
       "Sales-Agent-6      114\n",
       "Sales-Agent-7      736\n",
       "Sales-Agent-8       68\n",
       "Sales-Agent-9      879\n",
       "Name: Sales_Agent, dtype: int64"
      ]
     },
     "execution_count": 17,
     "metadata": {},
     "output_type": "execute_result"
    }
   ],
   "source": [
    "output.groupby('Sales_Agent')['Sales_Agent'].count()"
   ]
  },
  {
   "cell_type": "code",
   "execution_count": 18,
   "id": "3476ee15",
   "metadata": {},
   "outputs": [
    {
     "data": {
      "text/plain": [
       "<AxesSubplot:xlabel='Sales_Agent', ylabel='count'>"
      ]
     },
     "execution_count": 18,
     "metadata": {},
     "output_type": "execute_result"
    },
    {
     "data": {
      "image/png": "[encoded data removed]",
      "text/plain": [
       "<Figure size 1200x600 with 1 Axes>"
      ]
     },
     "metadata": {},
     "output_type": "display_data"
    }
   ],
   "source": [
    "# Exploration Sales Agent\n",
    "fig, ax = plt.subplots( figsize = (12,6) )\n",
    "sns.countplot( x='Sales_Agent', data=output )"
   ]
  },
  {
   "cell_type": "markdown",
   "id": "f5ac7d49",
   "metadata": {},
   "source": [
    "## Data Exploration 'Sales Agent'\n",
    "### There are 6 sales agent have >= 10% ratio :\n",
    "* Sales Agent 4 (20%)\n",
    "* Sales Agent 11 (19%)\n",
    "* Sales Agent 5 (16%)\n",
    "* Sales Agent 9 (12%)\n",
    "* Sales Agent 3 (11%)\n",
    "* Sales Agent 7 (10%)"
   ]
  },
  {
   "cell_type": "code",
   "execution_count": 19,
   "id": "9c0c8c54",
   "metadata": {},
   "outputs": [
    {
     "data": {
      "text/plain": [
       "Location\n",
       "                     58\n",
       "AUSTRALIA            25\n",
       "Bangalore          2084\n",
       "Chennai             909\n",
       "Delhi               471\n",
       "EUROPE                3\n",
       "Howrah                1\n",
       "Hyderabad           528\n",
       "Kolkata              55\n",
       "Malaysia              4\n",
       "Mumbai              402\n",
       "Other Locations    2500\n",
       "Pune                142\n",
       "Singapore            17\n",
       "Trivandrum           58\n",
       "UAE                  79\n",
       "UK                   41\n",
       "USA                  45\n",
       "Name: Location, dtype: int64"
      ]
     },
     "execution_count": 19,
     "metadata": {},
     "output_type": "execute_result"
    }
   ],
   "source": [
    "output.groupby('Location')['Location'].count()"
   ]
  },
  {
   "cell_type": "code",
   "execution_count": 57,
   "id": "c76c94de",
   "metadata": {},
   "outputs": [
    {
     "data": {
      "text/plain": [
       "<AxesSubplot:xlabel='Location', ylabel='count'>"
      ]
     },
     "execution_count": 57,
     "metadata": {},
     "output_type": "execute_result"
    },
    {
     "data": {
      "image/png": "[encoded data removed]",
      "text/plain": [
       "<Figure size 1800x600 with 1 Axes>"
      ]
     },
     "metadata": {},
     "output_type": "display_data"
    }
   ],
   "source": [
    "fig, ax = plt.subplots( figsize = (18,6) )\n",
    "sns.countplot( x='Location', data=output )"
   ]
  },
  {
   "cell_type": "markdown",
   "id": "564d02db",
   "metadata": {},
   "source": [
    "## Data Exploration 'Location'\n",
    "* Top 3 location : Other location 34%, Bungalore 28%, and Chennai 12%\n"
   ]
  },
  {
   "cell_type": "code",
   "execution_count": 21,
   "id": "decb3dc5",
   "metadata": {},
   "outputs": [
    {
     "data": {
      "text/plain": [
       "Delivery_Mode\n",
       "Mode-1    2627\n",
       "Mode-2      11\n",
       "Mode-3    1688\n",
       "Mode-4     121\n",
       "Mode-5    2975\n",
       "Name: Delivery_Mode, dtype: int64"
      ]
     },
     "execution_count": 21,
     "metadata": {},
     "output_type": "execute_result"
    }
   ],
   "source": [
    "output.groupby('Delivery_Mode')['Delivery_Mode'].count()"
   ]
  },
  {
   "cell_type": "code",
   "execution_count": 22,
   "id": "4ac53e80",
   "metadata": {},
   "outputs": [
    {
     "data": {
      "text/plain": [
       "<AxesSubplot:xlabel='Delivery_Mode', ylabel='count'>"
      ]
     },
     "execution_count": 22,
     "metadata": {},
     "output_type": "execute_result"
    },
    {
     "data": {
      "image/png": "[encoded data removed]",
      "text/plain": [
       "<Figure size 1200x600 with 1 Axes>"
      ]
     },
     "metadata": {},
     "output_type": "display_data"
    }
   ],
   "source": [
    "fig, ax = plt.subplots( figsize = (12,6) )\n",
    "sns.countplot( x='Delivery_Mode', data=output )"
   ]
  },
  {
   "cell_type": "markdown",
   "id": "eeed3372",
   "metadata": {},
   "source": [
    "## Data Exploration ' Delivery Mode'\n",
    "* Top 3 'Delivery Mode' : Mode 5 (40%),  mode 1 (35%), and  mode 3 (23%)"
   ]
  },
  {
   "cell_type": "code",
   "execution_count": 23,
   "id": "bd2ea7dd",
   "metadata": {},
   "outputs": [
    {
     "data": {
      "text/plain": [
       "Status\n",
       "CONVERTED                834\n",
       "In Progress Negative     626\n",
       "In Progress Positive     643\n",
       "Junk Lead               1536\n",
       "Just Enquiry             760\n",
       "LOST                     440\n",
       "Long Term                646\n",
       "Not Responding          1129\n",
       "Open                      82\n",
       "Potential                708\n",
       "converted                 18\n",
       "Name: Status, dtype: int64"
      ]
     },
     "execution_count": 23,
     "metadata": {},
     "output_type": "execute_result"
    }
   ],
   "source": [
    "output.groupby('Status')['Status'].count()"
   ]
  },
  {
   "cell_type": "code",
   "execution_count": 58,
   "id": "5f7bf548",
   "metadata": {},
   "outputs": [
    {
     "data": {
      "text/plain": [
       "<AxesSubplot:>"
      ]
     },
     "execution_count": 58,
     "metadata": {},
     "output_type": "execute_result"
    },
    {
     "data": {
      "image/png": "[encoded data removed]",
      "text/plain": [
       "<Figure size 1000x600 with 2 Axes>"
      ]
     },
     "metadata": {},
     "output_type": "display_data"
    }
   ],
   "source": [
    "ax = plt.subplots( figsize = (10,6) )\n",
    "sns.heatmap(df.drop(['Status'],axis=1).corr(),annot=True)"
   ]
  },
  {
   "cell_type": "markdown",
   "id": "906c08e9",
   "metadata": {},
   "source": [
    "# 6. Preprocessing"
   ]
  },
  {
   "cell_type": "code",
   "execution_count": 24,
   "id": "9857997d",
   "metadata": {},
   "outputs": [],
   "source": [
    "# Create new dataset for modelling\n",
    "df=output.copy()"
   ]
  },
  {
   "cell_type": "code",
   "execution_count": 25,
   "id": "5ed5c66a",
   "metadata": {},
   "outputs": [],
   "source": [
    "# Konversi object to float\n",
    "df['Product_ID'] = pd.to_numeric(df['Product_ID'], errors='coerce')"
   ]
  },
  {
   "cell_type": "code",
   "execution_count": 26,
   "id": "b887b69f",
   "metadata": {},
   "outputs": [
    {
     "name": "stdout",
     "output_type": "stream",
     "text": [
      "<class 'pandas.core.frame.DataFrame'>\n",
      "RangeIndex: 7422 entries, 0 to 7421\n",
      "Data columns (total 9 columns):\n",
      " #   Column         Non-Null Count  Dtype  \n",
      "---  ------         --------------  -----  \n",
      " 0   Created        7422 non-null   object \n",
      " 1   Product_ID     7364 non-null   float64\n",
      " 2   Source         7422 non-null   object \n",
      " 3   Mobile         7422 non-null   object \n",
      " 4   EMAIL          7422 non-null   object \n",
      " 5   Sales_Agent    7422 non-null   object \n",
      " 6   Location       7422 non-null   object \n",
      " 7   Delivery_Mode  7422 non-null   object \n",
      " 8   Status         7422 non-null   object \n",
      "dtypes: float64(1), object(8)\n",
      "memory usage: 522.0+ KB\n"
     ]
    }
   ],
   "source": [
    "df.info()"
   ]
  },
  {
   "cell_type": "code",
   "execution_count": 27,
   "id": "1a3dc57b",
   "metadata": {},
   "outputs": [
    {
     "data": {
      "text/plain": [
       "Created           0\n",
       "Product_ID       58\n",
       "Source            0\n",
       "Mobile            0\n",
       "EMAIL             0\n",
       "Sales_Agent       0\n",
       "Location          0\n",
       "Delivery_Mode     0\n",
       "Status            0\n",
       "dtype: int64"
      ]
     },
     "execution_count": 27,
     "metadata": {},
     "output_type": "execute_result"
    }
   ],
   "source": [
    "df.isnull().sum()"
   ]
  },
  {
   "cell_type": "code",
   "execution_count": 28,
   "id": "8fa28c93",
   "metadata": {},
   "outputs": [],
   "source": [
    "# Drop missing value\n",
    "df = df.dropna(subset=['Product_ID'])\n"
   ]
  },
  {
   "cell_type": "code",
   "execution_count": 29,
   "id": "ae4234b2",
   "metadata": {},
   "outputs": [
    {
     "data": {
      "text/plain": [
       "Created          0\n",
       "Product_ID       0\n",
       "Source           0\n",
       "Mobile           0\n",
       "EMAIL            0\n",
       "Sales_Agent      0\n",
       "Location         0\n",
       "Delivery_Mode    0\n",
       "Status           0\n",
       "dtype: int64"
      ]
     },
     "execution_count": 29,
     "metadata": {},
     "output_type": "execute_result"
    }
   ],
   "source": [
    "df.isnull().sum()"
   ]
  },
  {
   "cell_type": "code",
   "execution_count": 30,
   "id": "6f886d48",
   "metadata": {},
   "outputs": [
    {
     "data": {
      "text/plain": [
       "array(['Potential', 'Potential', 'Potential', ..., 'Not Responding',\n",
       "       'Just Enquiry', 'CONVERTED'], dtype=object)"
      ]
     },
     "execution_count": 30,
     "metadata": {},
     "output_type": "execute_result"
    }
   ],
   "source": [
    "df.Status.values"
   ]
  },
  {
   "cell_type": "markdown",
   "id": "51775cf2",
   "metadata": {},
   "source": [
    "## Convert Categorical data¶"
   ]
  },
  {
   "cell_type": "code",
   "execution_count": 31,
   "id": "33e8e04a",
   "metadata": {},
   "outputs": [],
   "source": [
    "# Define Categorical Feature have correlation with model\n",
    "categori=['Source','Sales_Agent','Location','Delivery_Mode']"
   ]
  },
  {
   "cell_type": "code",
   "execution_count": 32,
   "id": "984a969e",
   "metadata": {},
   "outputs": [],
   "source": [
    "all_labelencoders = {}\n",
    "\n",
    "for name in categori:\n",
    "    labelencoder = LabelEncoder()\n",
    "    all_labelencoders[name] = labelencoder\n",
    "\n",
    "    labelencoder.fit(df[name] )\n",
    "    df[name] = labelencoder.transform(df[name] )"
   ]
  },
  {
   "cell_type": "code",
   "execution_count": 33,
   "id": "a141a67b",
   "metadata": {},
   "outputs": [
    {
     "data": {
      "text/html": [
       "<div>\n",
       "<style scoped>\n",
       "    .dataframe tbody tr th:only-of-type {\n",
       "        vertical-align: middle;\n",
       "    }\n",
       "\n",
       "    .dataframe tbody tr th {\n",
       "        vertical-align: top;\n",
       "    }\n",
       "\n",
       "    .dataframe thead th {\n",
       "        text-align: right;\n",
       "    }\n",
       "</style>\n",
       "<table border=\"1\" class=\"dataframe\">\n",
       "  <thead>\n",
       "    <tr style=\"text-align: right;\">\n",
       "      <th></th>\n",
       "      <th>Created</th>\n",
       "      <th>Product_ID</th>\n",
       "      <th>Source</th>\n",
       "      <th>Mobile</th>\n",
       "      <th>EMAIL</th>\n",
       "      <th>Sales_Agent</th>\n",
       "      <th>Location</th>\n",
       "      <th>Delivery_Mode</th>\n",
       "      <th>Status</th>\n",
       "    </tr>\n",
       "  </thead>\n",
       "  <tbody>\n",
       "    <tr>\n",
       "      <th>18</th>\n",
       "      <td>13-11-2018 18:51</td>\n",
       "      <td>9.0</td>\n",
       "      <td>17</td>\n",
       "      <td>971XXXXXXX</td>\n",
       "      <td>mXXXXXXX@gmail.com</td>\n",
       "      <td>5</td>\n",
       "      <td>2</td>\n",
       "      <td>0</td>\n",
       "      <td>Potential</td>\n",
       "    </tr>\n",
       "    <tr>\n",
       "      <th>19</th>\n",
       "      <td>13-11-2018 18:48</td>\n",
       "      <td>19.0</td>\n",
       "      <td>3</td>\n",
       "      <td>701XXXXXXX</td>\n",
       "      <td>#VALUE!</td>\n",
       "      <td>6</td>\n",
       "      <td>11</td>\n",
       "      <td>4</td>\n",
       "      <td>Potential</td>\n",
       "    </tr>\n",
       "    <tr>\n",
       "      <th>24</th>\n",
       "      <td>13-11-2018 17:09</td>\n",
       "      <td>18.0</td>\n",
       "      <td>25</td>\n",
       "      <td>790XXXXXXX</td>\n",
       "      <td>gXXXXXXX@gmail.com</td>\n",
       "      <td>2</td>\n",
       "      <td>14</td>\n",
       "      <td>0</td>\n",
       "      <td>Potential</td>\n",
       "    </tr>\n",
       "    <tr>\n",
       "      <th>25</th>\n",
       "      <td>13-11-2018 16:49</td>\n",
       "      <td>15.0</td>\n",
       "      <td>25</td>\n",
       "      <td>970XXXXXXX</td>\n",
       "      <td>aXXXXXXX@gmail.com</td>\n",
       "      <td>9</td>\n",
       "      <td>7</td>\n",
       "      <td>0</td>\n",
       "      <td>Not Responding</td>\n",
       "    </tr>\n",
       "    <tr>\n",
       "      <th>26</th>\n",
       "      <td>13-11-2018 16:37</td>\n",
       "      <td>18.0</td>\n",
       "      <td>3</td>\n",
       "      <td>740XXXXXXX</td>\n",
       "      <td>nXXXXXXX@gmail.com</td>\n",
       "      <td>9</td>\n",
       "      <td>2</td>\n",
       "      <td>0</td>\n",
       "      <td>In Progress Positive</td>\n",
       "    </tr>\n",
       "  </tbody>\n",
       "</table>\n",
       "</div>"
      ],
      "text/plain": [
       "             Created  Product_ID  Source      Mobile               EMAIL  \\\n",
       "18  13-11-2018 18:51         9.0      17  971XXXXXXX  mXXXXXXX@gmail.com   \n",
       "19  13-11-2018 18:48        19.0       3  701XXXXXXX             #VALUE!   \n",
       "24  13-11-2018 17:09        18.0      25  790XXXXXXX  gXXXXXXX@gmail.com   \n",
       "25  13-11-2018 16:49        15.0      25  970XXXXXXX  aXXXXXXX@gmail.com   \n",
       "26  13-11-2018 16:37        18.0       3  740XXXXXXX  nXXXXXXX@gmail.com   \n",
       "\n",
       "    Sales_Agent  Location  Delivery_Mode                Status  \n",
       "18            5         2              0             Potential  \n",
       "19            6        11              4             Potential  \n",
       "24            2        14              0             Potential  \n",
       "25            9         7              0        Not Responding  \n",
       "26            9         2              0  In Progress Positive  "
      ]
     },
     "execution_count": 33,
     "metadata": {},
     "output_type": "execute_result"
    }
   ],
   "source": [
    "df.head()"
   ]
  },
  {
   "cell_type": "markdown",
   "id": "0a11b974",
   "metadata": {},
   "source": [
    "## Define Target Label\n",
    "* 0 = High Potential, from status 'Potential'\n",
    "* 1 = Low Potential, from other status "
   ]
  },
  {
   "cell_type": "code",
   "execution_count": 34,
   "id": "2af856eb",
   "metadata": {},
   "outputs": [],
   "source": [
    "# Change Status Value to 'High Potential' and Low Potential\n",
    "df[\"Status\"] = np.where(df[\"Status\"] == \"Potential\", 0, 1)"
   ]
  },
  {
   "cell_type": "code",
   "execution_count": 35,
   "id": "7aa7b9d6",
   "metadata": {},
   "outputs": [
    {
     "data": {
      "text/plain": [
       "Status\n",
       "0     708\n",
       "1    6656\n",
       "Name: Status, dtype: int64"
      ]
     },
     "execution_count": 35,
     "metadata": {},
     "output_type": "execute_result"
    }
   ],
   "source": [
    "df.groupby('Status')['Status'].count()"
   ]
  },
  {
   "cell_type": "code",
   "execution_count": 36,
   "id": "8eac29b5",
   "metadata": {},
   "outputs": [
    {
     "data": {
      "text/html": [
       "<div>\n",
       "<style scoped>\n",
       "    .dataframe tbody tr th:only-of-type {\n",
       "        vertical-align: middle;\n",
       "    }\n",
       "\n",
       "    .dataframe tbody tr th {\n",
       "        vertical-align: top;\n",
       "    }\n",
       "\n",
       "    .dataframe thead th {\n",
       "        text-align: right;\n",
       "    }\n",
       "</style>\n",
       "<table border=\"1\" class=\"dataframe\">\n",
       "  <thead>\n",
       "    <tr style=\"text-align: right;\">\n",
       "      <th></th>\n",
       "      <th>Created</th>\n",
       "      <th>Product_ID</th>\n",
       "      <th>Source</th>\n",
       "      <th>Mobile</th>\n",
       "      <th>EMAIL</th>\n",
       "      <th>Sales_Agent</th>\n",
       "      <th>Location</th>\n",
       "      <th>Delivery_Mode</th>\n",
       "      <th>Status</th>\n",
       "    </tr>\n",
       "  </thead>\n",
       "  <tbody>\n",
       "    <tr>\n",
       "      <th>18</th>\n",
       "      <td>13-11-2018 18:51</td>\n",
       "      <td>9.0</td>\n",
       "      <td>17</td>\n",
       "      <td>971XXXXXXX</td>\n",
       "      <td>mXXXXXXX@gmail.com</td>\n",
       "      <td>5</td>\n",
       "      <td>2</td>\n",
       "      <td>0</td>\n",
       "      <td>0</td>\n",
       "    </tr>\n",
       "    <tr>\n",
       "      <th>19</th>\n",
       "      <td>13-11-2018 18:48</td>\n",
       "      <td>19.0</td>\n",
       "      <td>3</td>\n",
       "      <td>701XXXXXXX</td>\n",
       "      <td>#VALUE!</td>\n",
       "      <td>6</td>\n",
       "      <td>11</td>\n",
       "      <td>4</td>\n",
       "      <td>0</td>\n",
       "    </tr>\n",
       "    <tr>\n",
       "      <th>24</th>\n",
       "      <td>13-11-2018 17:09</td>\n",
       "      <td>18.0</td>\n",
       "      <td>25</td>\n",
       "      <td>790XXXXXXX</td>\n",
       "      <td>gXXXXXXX@gmail.com</td>\n",
       "      <td>2</td>\n",
       "      <td>14</td>\n",
       "      <td>0</td>\n",
       "      <td>0</td>\n",
       "    </tr>\n",
       "    <tr>\n",
       "      <th>25</th>\n",
       "      <td>13-11-2018 16:49</td>\n",
       "      <td>15.0</td>\n",
       "      <td>25</td>\n",
       "      <td>970XXXXXXX</td>\n",
       "      <td>aXXXXXXX@gmail.com</td>\n",
       "      <td>9</td>\n",
       "      <td>7</td>\n",
       "      <td>0</td>\n",
       "      <td>1</td>\n",
       "    </tr>\n",
       "    <tr>\n",
       "      <th>26</th>\n",
       "      <td>13-11-2018 16:37</td>\n",
       "      <td>18.0</td>\n",
       "      <td>3</td>\n",
       "      <td>740XXXXXXX</td>\n",
       "      <td>nXXXXXXX@gmail.com</td>\n",
       "      <td>9</td>\n",
       "      <td>2</td>\n",
       "      <td>0</td>\n",
       "      <td>1</td>\n",
       "    </tr>\n",
       "  </tbody>\n",
       "</table>\n",
       "</div>"
      ],
      "text/plain": [
       "             Created  Product_ID  Source      Mobile               EMAIL  \\\n",
       "18  13-11-2018 18:51         9.0      17  971XXXXXXX  mXXXXXXX@gmail.com   \n",
       "19  13-11-2018 18:48        19.0       3  701XXXXXXX             #VALUE!   \n",
       "24  13-11-2018 17:09        18.0      25  790XXXXXXX  gXXXXXXX@gmail.com   \n",
       "25  13-11-2018 16:49        15.0      25  970XXXXXXX  aXXXXXXX@gmail.com   \n",
       "26  13-11-2018 16:37        18.0       3  740XXXXXXX  nXXXXXXX@gmail.com   \n",
       "\n",
       "    Sales_Agent  Location  Delivery_Mode  Status  \n",
       "18            5         2              0       0  \n",
       "19            6        11              4       0  \n",
       "24            2        14              0       0  \n",
       "25            9         7              0       1  \n",
       "26            9         2              0       1  "
      ]
     },
     "execution_count": 36,
     "metadata": {},
     "output_type": "execute_result"
    }
   ],
   "source": [
    "df.head()"
   ]
  },
  {
   "cell_type": "markdown",
   "id": "ed750b82",
   "metadata": {},
   "source": [
    "# 7. Create Model"
   ]
  },
  {
   "cell_type": "code",
   "execution_count": 37,
   "id": "1f38f816",
   "metadata": {},
   "outputs": [],
   "source": [
    "#Independent and dependent variable creation\n",
    "X=df.drop([\"Created\",\"Product_ID\",\"Mobile\",\"EMAIL\"],axis=1)\n",
    "y=df.Status"
   ]
  },
  {
   "cell_type": "code",
   "execution_count": 38,
   "id": "3bea0739",
   "metadata": {},
   "outputs": [],
   "source": [
    "#Traning and testing data creation\n",
    "from sklearn.model_selection import train_test_split\n",
    "X_train, X_test, y_train, y_test = train_test_split(X, y, test_size=0.2, random_state=42)"
   ]
  },
  {
   "cell_type": "markdown",
   "id": "1bd50856",
   "metadata": {},
   "source": [
    "## 7.1. XGBClassifier"
   ]
  },
  {
   "cell_type": "code",
   "execution_count": 39,
   "id": "01b1369b",
   "metadata": {},
   "outputs": [
    {
     "data": {
      "text/plain": [
       "XGBClassifier(base_score=0.5, booster='gbtree', callbacks=None,\n",
       "              colsample_bylevel=1, colsample_bynode=1, colsample_bytree=1,\n",
       "              early_stopping_rounds=None, enable_categorical=False,\n",
       "              eval_metric=None, gamma=0, gpu_id=-1, grow_policy='depthwise',\n",
       "              importance_type=None, interaction_constraints='',\n",
       "              learning_rate=0.300000012, max_bin=256, max_cat_to_onehot=4,\n",
       "              max_delta_step=0, max_depth=6, max_leaves=0, min_child_weight=1,\n",
       "              missing=nan, monotone_constraints='()', n_estimators=100,\n",
       "              n_jobs=0, num_parallel_tree=1, predictor='auto', random_state=0,\n",
       "              reg_alpha=0, reg_lambda=1, ...)"
      ]
     },
     "execution_count": 39,
     "metadata": {},
     "output_type": "execute_result"
    }
   ],
   "source": [
    "## Training Model\n",
    "from xgboost import XGBClassifier#importing the model library\n",
    "xgb=XGBClassifier() ## object creation\n",
    "xgb.fit(X_train,y_train)# fitting the data\n"
   ]
  },
  {
   "cell_type": "code",
   "execution_count": 40,
   "id": "d0cdc543",
   "metadata": {},
   "outputs": [
    {
     "data": {
      "text/plain": [
       "array([1, 1, 1, ..., 1, 0, 1])"
      ]
     },
     "execution_count": 40,
     "metadata": {},
     "output_type": "execute_result"
    }
   ],
   "source": [
    "#Predict X _test\n",
    "y_hat=xgb.predict(X_test)#predicting the price\n",
    "y_hat"
   ]
  },
  {
   "cell_type": "markdown",
   "id": "6774ebff",
   "metadata": {},
   "source": [
    "# 7.2. Random Forest"
   ]
  },
  {
   "cell_type": "code",
   "execution_count": 41,
   "id": "35878b1c",
   "metadata": {},
   "outputs": [
    {
     "data": {
      "text/plain": [
       "RandomForestClassifier()"
      ]
     },
     "execution_count": 41,
     "metadata": {},
     "output_type": "execute_result"
    }
   ],
   "source": [
    "from sklearn.ensemble import RandomForestClassifier#importing randomforest\n",
    "rf_clf = RandomForestClassifier(n_estimators=100)#object creation ,taking 100 decision tree in random forest \n",
    "rf_clf.fit(X_train,y_train)#training the data"
   ]
  },
  {
   "cell_type": "code",
   "execution_count": 42,
   "id": "d1594ccc",
   "metadata": {},
   "outputs": [
    {
     "data": {
      "text/plain": [
       "array([1, 1, 1, ..., 1, 0, 1])"
      ]
     },
     "execution_count": 42,
     "metadata": {},
     "output_type": "execute_result"
    }
   ],
   "source": [
    "y_test_rf=rf_clf.predict(X_test)#testing\n",
    "y_test_rf"
   ]
  },
  {
   "cell_type": "markdown",
   "id": "1ebade04",
   "metadata": {},
   "source": [
    "# 7.3 KNN Classifier"
   ]
  },
  {
   "cell_type": "code",
   "execution_count": 43,
   "id": "3c3b3789",
   "metadata": {},
   "outputs": [
    {
     "data": {
      "text/plain": [
       "KNeighborsClassifier(n_neighbors=3)"
      ]
     },
     "execution_count": 43,
     "metadata": {},
     "output_type": "execute_result"
    }
   ],
   "source": [
    "from sklearn.neighbors import KNeighborsClassifier\n",
    "\n",
    "KNN=KNeighborsClassifier(n_neighbors=3)\n",
    "KNN.fit(X_train,y_train)\n"
   ]
  },
  {
   "cell_type": "code",
   "execution_count": 44,
   "id": "96f45f96",
   "metadata": {},
   "outputs": [
    {
     "data": {
      "text/plain": [
       "array([1, 1, 1, ..., 1, 0, 1])"
      ]
     },
     "execution_count": 44,
     "metadata": {},
     "output_type": "execute_result"
    }
   ],
   "source": [
    "y_knn=KNN.predict(X_test)#predicting the price\n",
    "y_knn"
   ]
  },
  {
   "cell_type": "markdown",
   "id": "e6427695",
   "metadata": {},
   "source": [
    "# 8. Evaluation Model"
   ]
  },
  {
   "cell_type": "markdown",
   "id": "86c04da2",
   "metadata": {},
   "source": [
    "# 8.1. Evaluation Model XGBClassifier"
   ]
  },
  {
   "cell_type": "code",
   "execution_count": 45,
   "id": "125a14a1",
   "metadata": {},
   "outputs": [
    {
     "data": {
      "text/plain": [
       "1.0"
      ]
     },
     "execution_count": 45,
     "metadata": {},
     "output_type": "execute_result"
    }
   ],
   "source": [
    "## evaluatin the model\n",
    "from sklearn.metrics import accuracy_score,recall_score,precision_score,f1_score,classification_report,confusion_matrix# to check model performance\n",
    "accu_scor_xbr=accuracy_score(y_test,y_hat)\n",
    "accu_scor_xbr"
   ]
  },
  {
   "cell_type": "code",
   "execution_count": 46,
   "id": "900765de",
   "metadata": {},
   "outputs": [
    {
     "name": "stdout",
     "output_type": "stream",
     "text": [
      "[[ 138    0]\n",
      " [   0 1335]]\n"
     ]
    }
   ],
   "source": [
    "print(confusion_matrix(y_test,y_hat))"
   ]
  },
  {
   "cell_type": "code",
   "execution_count": 47,
   "id": "183d4218",
   "metadata": {},
   "outputs": [
    {
     "name": "stdout",
     "output_type": "stream",
     "text": [
      "              precision    recall  f1-score   support\n",
      "\n",
      "           0       1.00      1.00      1.00       138\n",
      "           1       1.00      1.00      1.00      1335\n",
      "\n",
      "    accuracy                           1.00      1473\n",
      "   macro avg       1.00      1.00      1.00      1473\n",
      "weighted avg       1.00      1.00      1.00      1473\n",
      "\n"
     ]
    }
   ],
   "source": [
    "print(classification_report(y_test,y_hat))"
   ]
  },
  {
   "cell_type": "markdown",
   "id": "63d47262",
   "metadata": {},
   "source": [
    "# 8.2. Evaluation Model Random Forest"
   ]
  },
  {
   "cell_type": "code",
   "execution_count": 48,
   "id": "5e02ba82",
   "metadata": {},
   "outputs": [
    {
     "data": {
      "text/plain": [
       "1.0"
      ]
     },
     "execution_count": 48,
     "metadata": {},
     "output_type": "execute_result"
    }
   ],
   "source": [
    "## calculating accuracy test data\n",
    "accuracy_train_rf = accuracy_score(y_test,y_test_rf)# model traning accuracy  \n",
    "accuracy_train_rf"
   ]
  },
  {
   "cell_type": "code",
   "execution_count": 49,
   "id": "bd559a68",
   "metadata": {},
   "outputs": [
    {
     "name": "stdout",
     "output_type": "stream",
     "text": [
      "              precision    recall  f1-score   support\n",
      "\n",
      "           0       1.00      1.00      1.00       138\n",
      "           1       1.00      1.00      1.00      1335\n",
      "\n",
      "    accuracy                           1.00      1473\n",
      "   macro avg       1.00      1.00      1.00      1473\n",
      "weighted avg       1.00      1.00      1.00      1473\n",
      "\n"
     ]
    }
   ],
   "source": [
    "print(classification_report(y_test,y_test_rf))"
   ]
  },
  {
   "cell_type": "markdown",
   "id": "1b72aa9d",
   "metadata": {},
   "source": [
    "# 8.3. Evaluation Model KNN Classifer"
   ]
  },
  {
   "cell_type": "code",
   "execution_count": 50,
   "id": "b2eb0d5d",
   "metadata": {},
   "outputs": [
    {
     "data": {
      "text/plain": [
       "0.9660556687033266"
      ]
     },
     "execution_count": 50,
     "metadata": {},
     "output_type": "execute_result"
    }
   ],
   "source": [
    "## calculating accuracy test data\n",
    "accuracy_train_knn = accuracy_score(y_test,y_knn)# model traning accuracy  \n",
    "accuracy_train_knn"
   ]
  },
  {
   "cell_type": "code",
   "execution_count": 51,
   "id": "333d995e",
   "metadata": {},
   "outputs": [
    {
     "name": "stdout",
     "output_type": "stream",
     "text": [
      "              precision    recall  f1-score   support\n",
      "\n",
      "           0       0.98      0.65      0.78       138\n",
      "           1       0.97      1.00      0.98      1335\n",
      "\n",
      "    accuracy                           0.97      1473\n",
      "   macro avg       0.97      0.83      0.88      1473\n",
      "weighted avg       0.97      0.97      0.96      1473\n",
      "\n"
     ]
    }
   ],
   "source": [
    "print(classification_report(y_test,y_knn))"
   ]
  },
  {
   "cell_type": "markdown",
   "id": "d5783b35",
   "metadata": {},
   "source": [
    "# 9. Deployment"
   ]
  },
  {
   "cell_type": "markdown",
   "id": "18d4e15b",
   "metadata": {},
   "source": [
    "## Comparation Model\n",
    "* XGBClassifer = 100%\n",
    "* Random Forest = 100%\n",
    "* KNN           = 96%\n",
    "\n",
    "#### We can choose XGBClassifier or Random Forest"
   ]
  },
  {
   "cell_type": "code",
   "execution_count": 54,
   "id": "94c4aaee",
   "metadata": {},
   "outputs": [],
   "source": [
    "# open a file, where you ant to store the data\n",
    "file = open('golden_model', 'wb')\n",
    "\n",
    "# dump information to that file\n",
    "pickle.dump(xgb, file)\n",
    "\n",
    "# close the file\n",
    "file.close()"
   ]
  },
  {
   "cell_type": "code",
   "execution_count": 55,
   "id": "9a516e61",
   "metadata": {},
   "outputs": [],
   "source": [
    "model = pickle.load(open('golden_model', 'rb'))"
   ]
  },
  {
   "cell_type": "code",
   "execution_count": 56,
   "id": "19971192",
   "metadata": {},
   "outputs": [
    {
     "data": {
      "text/plain": [
       "array([1, 1, 1, ..., 1, 0, 1])"
      ]
     },
     "execution_count": 56,
     "metadata": {},
     "output_type": "execute_result"
    }
   ],
   "source": [
    "model.predict(X_test)"
   ]
  },
  {
   "cell_type": "markdown",
   "id": "6d69d63b",
   "metadata": {},
   "source": [
    "# Conclussion"
   ]
  },
  {
   "cell_type": "markdown",
   "id": "4bbf8eb5",
   "metadata": {},
   "source": [
    "###  Machine Learning can predict to pre-categorize the lead quality and as result.  We are confident this model can help client to increase in sales effectiveness.  Accuracy of model 100%, we can use Random Forest or XGB Classifier.  But for KNN Clssifier, we can not recommended, because the score below 100%."
   ]
  },
  {
   "cell_type": "code",
   "execution_count": null,
   "id": "54d60b3b",
   "metadata": {},
   "outputs": [],
   "source": []
  }
 ],
 "metadata": {
  "kernelspec": {
   "display_name": "Python 3 (ipykernel)",
   "language": "python",
   "name": "python3"
  },
  "language_info": {
   "codemirror_mode": {
    "name": "ipython",
    "version": 3
   },
   "file_extension": ".py",
   "mimetype": "text/x-python",
   "name": "python",
   "nbconvert_exporter": "python",
   "pygments_lexer": "ipython3",
   "version": "3.9.12"
  }
 },
 "nbformat": 4,
 "nbformat_minor": 5
}
